{
 "cells": [
  {
   "cell_type": "code",
   "execution_count": 1,
   "id": "02e0fb3b",
   "metadata": {},
   "outputs": [],
   "source": [
    "from sklearn.model_selection import train_test_split\n",
    "from sklearn.neighbors import KNeighborsClassifier\n",
    "from sklearn.metrics import accuracy_score"
   ]
  },
  {
   "cell_type": "code",
   "execution_count": 2,
   "id": "f00f60ef",
   "metadata": {},
   "outputs": [],
   "source": [
    "# Cell 2: Create a custom dataset\n",
    "# Features: [study_hours, sleep_hours]\n",
    "X = [\n",
    "    [2, 9],  # studied 2 hrs, slept 9 hrs -> Fail\n",
    "    [1, 6],\n",
    "    [3, 7],\n",
    "    [5, 5],\n",
    "    [6, 6],\n",
    "    [7, 3],\n",
    "    [8, 4],\n",
    "    [9, 2]\n",
    "]\n",
    "\n",
    "# Labels: 0 = Fail, 1 = Pass\n",
    "y = [0, 0, 0, 1, 1, 1, 1, 1]"
   ]
  },
  {
   "cell_type": "code",
   "execution_count": 3,
   "id": "4333d079",
   "metadata": {},
   "outputs": [],
   "source": [
    "# Cell 3: Split into training and testing sets                                                                                  \n",
    "X_train, X_test, y_train, y_test = train_test_split(X, y, test_size=0.25, random_state=42)"
   ]
  },
  {
   "cell_type": "code",
   "execution_count": 5,
   "id": "4aaac7b0",
   "metadata": {},
   "outputs": [
    {
     "data": {
      "text/plain": [
       "KNeighborsClassifier(n_neighbors=3)"
      ]
     },
     "execution_count": 5,
     "metadata": {},
     "output_type": "execute_result"
    }
   ],
   "source": [
    "# Cell 4: Create and train k-NN model\n",
    "knn = KNeighborsClassifier(n_neighbors=3)\n",
    "knn.fit(X_train, y_train)\n"
   ]
  },
  {
   "cell_type": "code",
   "execution_count": 14,
   "id": "ac6354fe",
   "metadata": {},
   "outputs": [
    {
     "name": "stdout",
     "output_type": "stream",
     "text": [
      "Accuracy: 1.0\n"
     ]
    }
   ],
   "source": [
    "# Cell 5: Test the model\n",
    "y_pred = knn.predict(X_test)\n",
    "print(\"Accuracy:\", accuracy_score(y_test, y_pred))\n"
   ]
  },
  {
   "cell_type": "code",
   "execution_count": 11,
   "id": "369f3908",
   "metadata": {},
   "outputs": [
    {
     "name": "stdout",
     "output_type": "stream",
     "text": [
      "Prediction for new student: Pass\n"
     ]
    }
   ],
   "source": [
    "# Cell 6: Predict for a new student\n",
    "new_student = [[5, 7]]  # 4 hrs study, 8 hrs sleep\n",
    "prediction = knn.predict(new_student)\n",
    "print(\"Prediction for new student:\", \"Pass\" if prediction[0] == 1 else \"Fail\")\n"
   ]
  },
  {
   "cell_type": "code",
   "execution_count": 13,
   "id": "ff90e47d",
   "metadata": {},
   "outputs": [
    {
     "data": {
      "image/png": "[encoded data removed]",
      "text/plain": [
       "<Figure size 432x288 with 1 Axes>"
      ]
     },
     "metadata": {
      "needs_background": "light"
     },
     "output_type": "display_data"
    }
   ],
   "source": [
    "import matplotlib.pyplot as plt\n",
    "\n",
    "# Plot existing students\n",
    "for i, label in enumerate(y):\n",
    "    if label == 0:\n",
    "        plt.scatter(X[i][0], X[i][1], color=\"red\", marker=\"o\", label=\"Fail\" if i==0 else \"\")\n",
    "    else:\n",
    "        plt.scatter(X[i][0], X[i][1], color=\"green\", marker=\"^\", label=\"Pass\" if i==3 else \"\")\n",
    "\n",
    "# Plot new student\n",
    "plt.scatter(new_student[0][0], new_student[0][1], color=\"blue\", marker=\"*\", s=200, label=\"New Student\")\n",
    "\n",
    "# Labels and display\n",
    "plt.xlabel(\"Study Hours\")\n",
    "plt.ylabel(\"Sleep Hours\")\n",
    "plt.title(\"Pass vs Fail (k-NN)\")\n",
    "plt.legend()\n",
    "plt.grid(True)\n",
    "plt.show()"
   ]
  },
  {
   "cell_type": "code",
   "execution_count": 55,
   "id": "26d47a6d",
   "metadata": {},
   "outputs": [
    {
     "name": "stdout",
     "output_type": "stream",
     "text": [
      "Test Accuracy: 0.0\n",
      "Prediction for new item: fruit\n"
     ]
    }
   ],
   "source": [
    "from sklearn.model_selection import train_test_split\n",
    "from sklearn.neighbors import KNeighborsClassifier\n",
    "from sklearn.metrics import accuracy_score\n",
    "\n",
    "# Features: [sweetness, crunchiness]\n",
    "X = [\n",
    "    [8, 5],  # grape\n",
    "    [3, 7],  # green bean\n",
    "    [3, 6],  # nuts\n",
    "    [7, 3],  # orange\n",
    "]\n",
    "\n",
    "# Labels: General food categories\n",
    "y = [\"fruit\", \"vegetable\", \"protein\", \"fruit\"]\n",
    "\n",
    "# Train-test split\n",
    "X_train, X_test, y_train, y_test = train_test_split(\n",
    "    X, y, test_size=0.25, random_state=42\n",
    ")\n",
    "\n",
    "# Train k-NN classifier\n",
    "knn = KNeighborsClassifier(n_neighbors=1)\n",
    "knn.fit(X_train, y_train)\n",
    "\n",
    "# Predict test data\n",
    "y_pred = knn.predict(X_test)\n",
    "print(\"Test Accuracy:\", accuracy_score(y_test, y_pred))\n",
    "\n",
    "# Predict new item\n",
    "new_item = [[6, 4]]  # sweetness=8, crunchiness=5\n",
    "prediction = knn.predict(new_item)\n",
    "print(\"Prediction for new item:\", prediction[0])\n"
   ]
  },
  {
   "cell_type": "code",
   "execution_count": null,
   "id": "2dd1cb2d",
   "metadata": {},
   "outputs": [],
   "source": []
  },
  {
   "cell_type": "code",
   "execution_count": 68,
   "id": "907045fc",
   "metadata": {},
   "outputs": [
    {
     "name": "stdout",
     "output_type": "stream",
     "text": [
      "Test Accuracy: 0.0\n",
      "Prediction for new item: protin\n"
     ]
    }
   ],
   "source": [
    "import pandas as pd\n",
    "from sklearn.model_selection import train_test_split\n",
    "from sklearn.neighbors import KNeighborsClassifier\n",
    "from sklearn.metrics import accuracy_score\n",
    "\n",
    "# Load CSV\n",
    "df = pd.read_csv('knn.csv')\n",
    "\n",
    "# Fix column names: strip spaces, lowercase\n",
    "df.columns = df.columns.str.strip().str.lower()\n",
    "\n",
    "# Use the correct columns\n",
    "X = df[['sweetness', 'crunchness']].values\n",
    "y = df['food type'].values\n",
    "\n",
    "# Split data\n",
    "X_train, X_test, y_train, y_test = train_test_split(\n",
    "    X, y, test_size=0.25, random_state=42\n",
    ")\n",
    "\n",
    "# Train k-NN classifier\n",
    "knn = KNeighborsClassifier(n_neighbors=1)\n",
    "knn.fit(X_train, y_train)\n",
    "\n",
    "# Test prediction accuracy\n",
    "y_pred = knn.predict(X_test)\n",
    "print(\"Test Accuracy:\", accuracy_score(y_test, y_pred))\n",
    "\n",
    "# Predict new item (example)\n",
    "new_item = [[3, 6]]\n",
    "prediction = knn.predict(new_item)\n",
    "print(\"Prediction for new item:\", prediction[0])\n"
   ]
  },
  {
   "cell_type": "code",
   "execution_count": null,
   "id": "86697992",
   "metadata": {},
   "outputs": [],
   "source": []
  }
 ],
 "metadata": {
  "kernelspec": {
   "display_name": "Python 3 (ipykernel)",
   "language": "python",
   "name": "python3"
  },
  "language_info": {
   "codemirror_mode": {
    "name": "ipython",
    "version": 3
   },
   "file_extension": ".py",
   "mimetype": "text/x-python",
   "name": "python",
   "nbconvert_exporter": "python",
   "pygments_lexer": "ipython3",
   "version": "3.9.7"
  }
 },
 "nbformat": 4,
 "nbformat_minor": 5
}
