{
 "cells": [
  {
   "cell_type": "code",
   "execution_count": 7,
   "id": "f67e530c",
   "metadata": {},
   "outputs": [
    {
     "name": "stdout",
     "output_type": "stream",
     "text": [
      "Accuracy: 1.0\n",
      "Prediction for sample [apple, 10, 9]: fruit\n"
     ]
    }
   ],
   "source": [
    "import numpy as np  \n",
    "import pandas as pd \n",
    "from sklearn.model_selection import train_test_split  \n",
    "from sklearn.naive_bayes import GaussianNB \n",
    "from sklearn.metrics import accuracy_score \n",
    "from sklearn.preprocessing import LabelEncoder \n",
    "\n",
    "# Load data\n",
    "data = pd.read_csv('food.csv') \n",
    "\n",
    "# Features and target\n",
    "X = data.iloc[:, :3]      # First 3 columns as features: Ingredient, Sweetness, Crunchiness\n",
    "y = data.iloc[:, 3]       # Last column as target: FoodType\n",
    "\n",
    "# Encode categorical column(s)\n",
    "le_ingredient = LabelEncoder()\n",
    "X['Ingredient'] = le_ingredient.fit_transform(X['Ingredient'])\n",
    "\n",
    "le_foodtype = LabelEncoder()\n",
    "y = le_foodtype.fit_transform(y)  # Encode target\n",
    "\n",
    "# Split data\n",
    "X_train, X_test, y_train, y_test = train_test_split(X, y, test_size=0.2, random_state=42)\n",
    "\n",
    "# Train model\n",
    "model = GaussianNB()\n",
    "model.fit(X_train, y_train)\n",
    "\n",
    "# Predict on test data\n",
    "y_pred = model.predict(X_test)\n",
    "\n",
    "# Accuracy\n",
    "accuracy = accuracy_score(y_test, y_pred)\n",
    "print(\"Accuracy:\", accuracy)\n",
    "\n",
    "\n",
    "# Correct the spelling from 'appale' to 'apple' and encode it\n",
    "encoded_ingredient = le_ingredient.transform(['apple'])[0]\n",
    "\n",
    "# Create new sample with encoded ingredient\n",
    "new_sample = np.array([[encoded_ingredient, 10, 9]])\n",
    "\n",
    "# Predict\n",
    "prediction_encoded = model.predict(new_sample)\n",
    "prediction_label = le_foodtype.inverse_transform(prediction_encoded)\n",
    "\n",
    "print(f\"Prediction for sample [apple, 10, 9]: {prediction_label[0]}\")\n"
   ]
  },
  {
   "cell_type": "code",
   "execution_count": null,
   "id": "ac6a9708",
   "metadata": {},
   "outputs": [],
   "source": []
  }
 ],
 "metadata": {
  "kernelspec": {
   "display_name": "Python 3 (ipykernel)",
   "language": "python",
   "name": "python3"
  },
  "language_info": {
   "codemirror_mode": {
    "name": "ipython",
    "version": 3
   },
   "file_extension": ".py",
   "mimetype": "text/x-python",
   "name": "python",
   "nbconvert_exporter": "python",
   "pygments_lexer": "ipython3",
   "version": "3.9.7"
  }
 },
 "nbformat": 4,
 "nbformat_minor": 5
}
