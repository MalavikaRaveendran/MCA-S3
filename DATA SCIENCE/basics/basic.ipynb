{
 "cells": [
  {
   "cell_type": "code",
   "execution_count": 1,
   "id": "9c79b613",
   "metadata": {},
   "outputs": [],
   "source": [
    "a=1"
   ]
  },
  {
   "cell_type": "code",
   "execution_count": 2,
   "id": "3d03b321",
   "metadata": {},
   "outputs": [
    {
     "name": "stdout",
     "output_type": "stream",
     "text": [
      "1\n"
     ]
    }
   ],
   "source": [
    "print (a)"
   ]
  },
  {
   "cell_type": "code",
   "execution_count": 3,
   "id": "bf4fb3de",
   "metadata": {},
   "outputs": [
    {
     "name": "stdout",
     "output_type": "stream",
     "text": [
      "enter a number8\n",
      "enter a numbre2\n",
      "10\n"
     ]
    }
   ],
   "source": [
    "a=int(input(\"enter a number\"))\n",
    "b=int(input(\"enter a numbre\"))\n",
    "c=a+b\n",
    "print(c)"
   ]
  },
  {
   "cell_type": "code",
   "execution_count": 4,
   "id": "309dd380",
   "metadata": {},
   "outputs": [
    {
     "data": {
      "text/plain": [
       "int"
      ]
     },
     "execution_count": 4,
     "metadata": {},
     "output_type": "execute_result"
    }
   ],
   "source": [
    "type(a)"
   ]
  },
  {
   "cell_type": "code",
   "execution_count": 5,
   "id": "4406d835",
   "metadata": {},
   "outputs": [
    {
     "name": "stdout",
     "output_type": "stream",
     "text": [
      "Sum: 330, Average: 82.5\n"
     ]
    }
   ],
   "source": [
    "def maaark(marks):\n",
    "    total = sum(marks)\n",
    "    average = total / len(marks) if marks else 0\n",
    "    return total, average\n",
    "\n",
    "\n",
    "marks = [80, 90, 75, 85]\n",
    "total, avg = maaark(marks)\n",
    "print(f\"Sum: {total}, Average: {avg}\")\n"
   ]
  },
  {
   "cell_type": "code",
   "execution_count": 7,
   "id": "5a7edc77",
   "metadata": {},
   "outputs": [
    {
     "name": "stdout",
     "output_type": "stream",
     "text": [
      "Enter marks separated by spaces: 12 02 52 65 055 65\n",
      "Sum: 251, Average: 41.833333333333336\n"
     ]
    }
   ],
   "source": [
    "def maaark(marks):\n",
    "    total = sum(marks)\n",
    "    average = total / len(marks) if marks else 0\n",
    "    return total, average\n",
    "\n",
    "a = input(\"Enter marks separated by spaces: \")\n",
    "marks = list(map(int, a.split()))\n",
    "\n",
    "total, avg = maaark(marks)\n",
    "print(f\"Sum: {total}, Average: {avg}\")\n"
   ]
  },
  {
   "cell_type": "code",
   "execution_count": null,
   "id": "1ba7896f",
   "metadata": {},
   "outputs": [],
   "source": [
    "def func():\n",
    "    print(\"deeei\")"
   ]
  },
  {
   "cell_type": "code",
   "execution_count": null,
   "id": "b2e253a5",
   "metadata": {},
   "outputs": [],
   "source": []
  }
 ],
 "metadata": {
  "kernelspec": {
   "display_name": "Python 3 (ipykernel)",
   "language": "python",
   "name": "python3"
  },
  "language_info": {
   "codemirror_mode": {
    "name": "ipython",
    "version": 3
   },
   "file_extension": ".py",
   "mimetype": "text/x-python",
   "name": "python",
   "nbconvert_exporter": "python",
   "pygments_lexer": "ipython3",
   "version": "3.9.7"
  }
 },
 "nbformat": 4,
 "nbformat_minor": 5
}
